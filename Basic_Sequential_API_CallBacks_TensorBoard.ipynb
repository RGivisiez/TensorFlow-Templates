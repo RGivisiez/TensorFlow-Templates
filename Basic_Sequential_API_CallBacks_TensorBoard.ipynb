{
  "nbformat": 4,
  "nbformat_minor": 0,
  "metadata": {
    "colab": {
      "name": "Basic: Sequential - API - CallBacks - TensorBoard.ipynb",
      "provenance": [],
      "authorship_tag": "ABX9TyMWZUzQNB1GiyezNwNx10fZ",
      "include_colab_link": true
    },
    "kernelspec": {
      "name": "python3",
      "display_name": "Python 3"
    },
    "language_info": {
      "name": "python"
    }
  },
  "cells": [
    {
      "cell_type": "markdown",
      "metadata": {
        "id": "view-in-github",
        "colab_type": "text"
      },
      "source": [
        "<a href=\"https://colab.research.google.com/github/RGivisiez/TensorFlow-Templates/blob/main/Basic_Sequential_API_CallBacks_TensorBoard.ipynb\" target=\"_parent\"><img src=\"https://colab.research.google.com/assets/colab-badge.svg\" alt=\"Open In Colab\"/></a>"
      ]
    },
    {
      "cell_type": "markdown",
      "source": [
        "### Imports"
      ],
      "metadata": {
        "id": "gJRX0dAUejv7"
      }
    },
    {
      "cell_type": "code",
      "source": [
        "import numpy as np"
      ],
      "metadata": {
        "id": "GXUz0lAJ5dPx"
      },
      "execution_count": 1,
      "outputs": []
    },
    {
      "cell_type": "code",
      "execution_count": 2,
      "metadata": {
        "id": "I0lq2a-8lYJi"
      },
      "outputs": [],
      "source": [
        "import tensorflow as tf\n",
        "from tensorflow import keras\n",
        "from keras.models import Sequential, Model\n",
        "from keras.layers import Input\n",
        "from keras import layers\n",
        "from keras.callbacks import ModelCheckpoint \n",
        "\n",
        "from tensorflow.keras.utils import plot_model\n",
        "\n",
        "from keras.layers import Dense"
      ]
    },
    {
      "cell_type": "markdown",
      "source": [
        "### Auxiliary Functions\n"
      ],
      "metadata": {
        "id": "TsPcf4M4-bBu"
      }
    },
    {
      "cell_type": "code",
      "source": [
        "from IPython.display import display\n",
        "\n",
        "def visualize(summary, visualize_graph, model, model_name):\n",
        "\n",
        "  if summary == True:\n",
        "    model.summary()\n",
        "\n",
        "  if visualize_graph == True:\n",
        "    try:\n",
        "      display(keras.utils.plot_model(model, model_name + \".png\", show_shapes=True))\n",
        "    except:\n",
        "      print('Run: \\n!pip install pydot \\\n",
        "                  \\n!pip install pydotplus \\\n",
        "                  \\n!pip install graphviz \\\n",
        "                  \\n!apt-get install graphviz -y')\n",
        "        \n",
        "  return"
      ],
      "metadata": {
        "id": "1vYRd88l8DpH"
      },
      "execution_count": 3,
      "outputs": []
    },
    {
      "cell_type": "markdown",
      "source": [
        "### Model Definitions"
      ],
      "metadata": {
        "id": "WV53LtDW-iVS"
      }
    },
    {
      "cell_type": "code",
      "source": [
        "X = np.arange(-15, 15).astype(float).repeat(2).reshape(-1, 2)\n",
        "y_hat = X[:, :1] * -1 + 5"
      ],
      "metadata": {
        "id": "C8XJdRWwlr9r"
      },
      "execution_count": 4,
      "outputs": []
    },
    {
      "cell_type": "code",
      "source": [
        "print(\"X shape: {0}\\nŷ shape: {1}\".format(X.shape, y_hat.shape))"
      ],
      "metadata": {
        "colab": {
          "base_uri": "https://localhost:8080/"
        },
        "id": "RkqAXcJoVh2s",
        "outputId": "b499420a-78f9-4b8f-8db0-39d75fa031e0"
      },
      "execution_count": 5,
      "outputs": [
        {
          "output_type": "stream",
          "name": "stdout",
          "text": [
            "X shape: (30, 2)\n",
            "ŷ shape: (30, 1)\n"
          ]
        }
      ]
    },
    {
      "cell_type": "code",
      "source": [
        "loss_fn = 'MSE'\n",
        "optimizer = 'adam'\n",
        "metrics = ['MAE']\n",
        "model_name = 'base_model'\n",
        "val_metrics = 'val_loss'"
      ],
      "metadata": {
        "id": "kUBuHBismvzD"
      },
      "execution_count": 6,
      "outputs": []
    },
    {
      "cell_type": "code",
      "source": [
        "folder_path = './logs1'"
      ],
      "metadata": {
        "id": "8OnNbsr5AyRc"
      },
      "execution_count": 7,
      "outputs": []
    },
    {
      "cell_type": "code",
      "source": [
        "batch_size = 1\n",
        "epochs = 2000\n",
        "workers = 7"
      ],
      "metadata": {
        "id": "RLdzuX5Q_Be4"
      },
      "execution_count": 8,
      "outputs": []
    },
    {
      "cell_type": "markdown",
      "source": [
        "### Initialize Tensorboard"
      ],
      "metadata": {
        "id": "Jv9vCw6TNvCI"
      }
    },
    {
      "cell_type": "code",
      "source": [
        "%load_ext tensorboard"
      ],
      "metadata": {
        "id": "6xo_IpckEQR1"
      },
      "execution_count": 9,
      "outputs": []
    },
    {
      "cell_type": "code",
      "source": [
        "%tensorboard --logdir $folder_path --host 0.0.0.0"
      ],
      "metadata": {
        "id": "tZdUbxstmtto",
        "colab": {
          "base_uri": "https://localhost:8080/",
          "height": 0
        },
        "outputId": "280113e3-02ed-44f4-8c30-9cc1f5d795af"
      },
      "execution_count": 10,
      "outputs": [
        {
          "output_type": "display_data",
          "data": {
            "text/plain": [
              "<IPython.core.display.HTML object>"
            ],
            "text/html": [
              "\n",
              "      <iframe id=\"tensorboard-frame-ddab1b6e2cf9378f\" width=\"100%\" height=\"800\" frameborder=\"0\">\n",
              "      </iframe>\n",
              "      <script>\n",
              "        (function() {\n",
              "          const frame = document.getElementById(\"tensorboard-frame-ddab1b6e2cf9378f\");\n",
              "          const url = new URL(\"/\", window.location);\n",
              "          const port = 6006;\n",
              "          if (port) {\n",
              "            url.port = port;\n",
              "          }\n",
              "          frame.src = url;\n",
              "        })();\n",
              "      </script>\n",
              "    "
            ]
          },
          "metadata": {}
        }
      ]
    },
    {
      "cell_type": "markdown",
      "source": [
        "### Create Model"
      ],
      "metadata": {
        "id": "jCwZrGwV-m6V"
      }
    },
    {
      "cell_type": "code",
      "source": [
        "def Sequential_Model(input):\n",
        "\n",
        "  '''\n",
        "     A Sequential model is appropriate for a plain stack of layers\n",
        "     where each layer has exactly one input tensor and one output tensor.\n",
        "  '''\n",
        "\n",
        "  model = Sequential([\n",
        "                       input,\n",
        "                       Dense(1, activation='linear', name='weights',\n",
        "                             )\n",
        "                       ], name=model_name)\n",
        "  \n",
        "  return model"
      ],
      "metadata": {
        "id": "_PUAFfoDpEL-"
      },
      "execution_count": 11,
      "outputs": []
    },
    {
      "cell_type": "code",
      "source": [
        "def Funcitonal_API(input):\n",
        "\n",
        "  '''\n",
        "     The functional API can handle models with non-linear topology,\n",
        "     shared layers, and even multiple inputs or outputs.\n",
        "  '''\n",
        "\n",
        "  x = Dense(1, activation='linear', name='weights')(input)\n",
        "\n",
        "  output = x\n",
        "\n",
        "  model = Model(input, output, name=model_name)\n",
        "\n",
        "  return model"
      ],
      "metadata": {
        "id": "GvbupwzEqBe4"
      },
      "execution_count": 12,
      "outputs": []
    },
    {
      "cell_type": "code",
      "source": [
        "def Create_Model(X):\n",
        "\n",
        "  x_input = Input(shape=(X.shape[1], ), name='input_layer')\n",
        "\n",
        "  model = Sequential_Model(x_input)\n",
        "  #model = Funcitonal_API(x_input)\n",
        "\n",
        "  return model"
      ],
      "metadata": {
        "id": "xcKEgh2Knuch"
      },
      "execution_count": 13,
      "outputs": []
    },
    {
      "cell_type": "markdown",
      "source": [
        "### Build and Compile"
      ],
      "metadata": {
        "id": "Fw2-1HUu-sOS"
      }
    },
    {
      "cell_type": "code",
      "source": [
        "def Model_Build_Compile(X, loss_fn, metrics='accuracy',\n",
        "                        optimizer='adam', summary=False,\n",
        "                        visualize_graph=False):\n",
        "\n",
        "    model = Create_Model(X)\n",
        "\n",
        "    model.compile(\n",
        "                  loss=loss_fn,\n",
        "                  optimizer=optimizer,\n",
        "                  metrics=metrics,\n",
        "                  )\n",
        "\n",
        "    if summary or visualize_graph == True:\n",
        "      visualize(summary, visualize_graph, model, model_name)\n",
        "\n",
        "    return model"
      ],
      "metadata": {
        "id": "qoCT-sPhlqYx"
      },
      "execution_count": 14,
      "outputs": []
    },
    {
      "cell_type": "markdown",
      "source": [
        "### Visualize Model"
      ],
      "metadata": {
        "id": "8jLcJdu0-uSO"
      }
    },
    {
      "cell_type": "code",
      "source": [
        "model = Model_Build_Compile(X, loss_fn, metrics, optimizer,\n",
        "                            summary=True, visualize_graph=True)"
      ],
      "metadata": {
        "colab": {
          "base_uri": "https://localhost:8080/",
          "height": 0
        },
        "id": "SDX4D9UOnqCM",
        "outputId": "c0658a34-afec-419b-a650-69b09d8d876c"
      },
      "execution_count": 15,
      "outputs": [
        {
          "output_type": "stream",
          "name": "stdout",
          "text": [
            "Model: \"base_model\"\n",
            "_________________________________________________________________\n",
            " Layer (type)                Output Shape              Param #   \n",
            "=================================================================\n",
            " weights (Dense)             (None, 1)                 3         \n",
            "                                                                 \n",
            "=================================================================\n",
            "Total params: 3\n",
            "Trainable params: 3\n",
            "Non-trainable params: 0\n",
            "_________________________________________________________________\n"
          ]
        },
        {
          "output_type": "display_data",
          "data": {
            "image/png": "[encoded data removed]",
            "text/plain": [
              "<IPython.core.display.Image object>"
            ]
          },
          "metadata": {}
        }
      ]
    },
    {
      "cell_type": "markdown",
      "source": [
        "### Callbacks - Basic"
      ],
      "metadata": {
        "id": "IG88WJsvASt0"
      }
    },
    {
      "cell_type": "code",
      "source": [
        "import os\n",
        "import datetime\n",
        "from datetime import datetime\n",
        "import pytz\n",
        "\n",
        "tz_SP = pytz.timezone('America/Sao_Paulo')"
      ],
      "metadata": {
        "id": "9jGMVbsgAkXv"
      },
      "execution_count": 16,
      "outputs": []
    },
    {
      "cell_type": "code",
      "source": [
        "logdir = os.path.join(folder_path, model_name \\\n",
        "                      + '-' + datetime.now(tz_SP).strftime(\"%Y-%m-%d_%H:%M:%S\")\n",
        "                      )\n",
        "print('Path to the logs: {0}'.format(logdir))"
      ],
      "metadata": {
        "colab": {
          "base_uri": "https://localhost:8080/"
        },
        "id": "j70HvBfAAb9r",
        "outputId": "4dfcb8e6-ab38-49fb-f854-aa98792b20c3"
      },
      "execution_count": 17,
      "outputs": [
        {
          "output_type": "stream",
          "name": "stdout",
          "text": [
            "Path to the logs: ./logs1/base_model-2022-04-03_15:51:44\n"
          ]
        }
      ]
    },
    {
      "cell_type": "code",
      "source": [
        "tensorboard_callback = tf.keras.callbacks.TensorBoard(logdir,\n",
        "                                                      write_graph=False,\n",
        "                                                      write_images=1,\n",
        "                                                      histogram_freq=1,\n",
        "                                                      )"
      ],
      "metadata": {
        "id": "IUkxELUOAVur"
      },
      "execution_count": 18,
      "outputs": []
    },
    {
      "cell_type": "code",
      "source": [
        "checkpointer = ModelCheckpoint(folder_path + '/saved_models/',\n",
        "                               monitor=val_metrics,\n",
        "                               verbose=0,\n",
        "                               save_freq=epochs,\n",
        "                               save_best_only=True)"
      ],
      "metadata": {
        "id": "zequGRYEAsFW"
      },
      "execution_count": 19,
      "outputs": []
    },
    {
      "cell_type": "markdown",
      "source": [
        "### Model Fit - Basic"
      ],
      "metadata": {
        "id": "W_-O8wFb-y5A"
      }
    },
    {
      "cell_type": "code",
      "source": [
        "hist = model.fit(X, y_hat,\n",
        "                 #validation_data=(,),\n",
        "                 validation_split=0.1,\n",
        "                 initial_epoch=0,\n",
        "                 verbose=0,\n",
        "                 callbacks=[checkpointer, tensorboard_callback],\n",
        "                 workers=workers,\n",
        "                 batch_size=batch_size,\n",
        "                 epochs=epochs,)"
      ],
      "metadata": {
        "colab": {
          "base_uri": "https://localhost:8080/"
        },
        "id": "rI_TG2lL-XJJ",
        "outputId": "37a5db94-bb38-4a47-9aa1-bb187d80cd08"
      },
      "execution_count": 20,
      "outputs": [
        {
          "output_type": "stream",
          "name": "stdout",
          "text": [
            "WARNING:tensorflow:Can save best model only with val_loss available, skipping.\n",
            "WARNING:tensorflow:Can save best model only with val_loss available, skipping.\n",
            "WARNING:tensorflow:Can save best model only with val_loss available, skipping.\n",
            "WARNING:tensorflow:Can save best model only with val_loss available, skipping.\n",
            "WARNING:tensorflow:Can save best model only with val_loss available, skipping.\n",
            "WARNING:tensorflow:Can save best model only with val_loss available, skipping.\n",
            "WARNING:tensorflow:Can save best model only with val_loss available, skipping.\n",
            "WARNING:tensorflow:Can save best model only with val_loss available, skipping.\n",
            "WARNING:tensorflow:Can save best model only with val_loss available, skipping.\n",
            "WARNING:tensorflow:Can save best model only with val_loss available, skipping.\n",
            "WARNING:tensorflow:Can save best model only with val_loss available, skipping.\n",
            "WARNING:tensorflow:Can save best model only with val_loss available, skipping.\n",
            "WARNING:tensorflow:Can save best model only with val_loss available, skipping.\n",
            "WARNING:tensorflow:Can save best model only with val_loss available, skipping.\n",
            "WARNING:tensorflow:Can save best model only with val_loss available, skipping.\n",
            "WARNING:tensorflow:Can save best model only with val_loss available, skipping.\n",
            "WARNING:tensorflow:Can save best model only with val_loss available, skipping.\n",
            "WARNING:tensorflow:Can save best model only with val_loss available, skipping.\n",
            "WARNING:tensorflow:Can save best model only with val_loss available, skipping.\n",
            "WARNING:tensorflow:Can save best model only with val_loss available, skipping.\n",
            "WARNING:tensorflow:Can save best model only with val_loss available, skipping.\n",
            "WARNING:tensorflow:Can save best model only with val_loss available, skipping.\n",
            "WARNING:tensorflow:Can save best model only with val_loss available, skipping.\n",
            "WARNING:tensorflow:Can save best model only with val_loss available, skipping.\n",
            "WARNING:tensorflow:Can save best model only with val_loss available, skipping.\n",
            "WARNING:tensorflow:Can save best model only with val_loss available, skipping.\n",
            "WARNING:tensorflow:Can save best model only with val_loss available, skipping.\n"
          ]
        }
      ]
    },
    {
      "cell_type": "markdown",
      "source": [
        "### Expected Result"
      ],
      "metadata": {
        "id": "aicTrd82kakA"
      }
    },
    {
      "cell_type": "code",
      "source": [
        "# The weights are expected to sum to -1 since both entries of X\n",
        "# are build with the same line equation f(x) = -x+5.\n",
        "# The bias should be 5.\n",
        "for layer in model.layers:\n",
        "  try:\n",
        "    for weights in layer.weights:\n",
        "      print('\\nVariable name: {0} \\nvalues: \\n{1}'.format(weights.name, np.round(weights.numpy(), 2)))\n",
        "  except:\n",
        "    print(\"\")"
      ],
      "metadata": {
        "colab": {
          "base_uri": "https://localhost:8080/"
        },
        "id": "zBAboH5tfDo_",
        "outputId": "9a347792-10df-4503-890e-2e29f1324eab"
      },
      "execution_count": 21,
      "outputs": [
        {
          "output_type": "stream",
          "name": "stdout",
          "text": [
            "\n",
            "Variable name: weights/kernel:0 \n",
            "values: \n",
            "[[-0.84]\n",
            " [-0.16]]\n",
            "\n",
            "Variable name: weights/bias:0 \n",
            "values: \n",
            "[5.]\n"
          ]
        }
      ]
    }
  ]
}