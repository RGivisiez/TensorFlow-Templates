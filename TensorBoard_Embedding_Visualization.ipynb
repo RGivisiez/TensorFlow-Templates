{
  "nbformat": 4,
  "nbformat_minor": 0,
  "metadata": {
    "colab": {
      "name": "TensorBoard Embedding Visualization.ipynb",
      "provenance": [],
      "collapsed_sections": [
        "Vl5nb4H0OM-3",
        "WV53LtDW-iVS",
        "Jv9vCw6TNvCI",
        "ovMP4PzP_aCB",
        "ON3rSG-yM9WB"
      ],
      "authorship_tag": "ABX9TyP0LEOd1WqcLnsUoylDM4Qe",
      "include_colab_link": true
    },
    "kernelspec": {
      "name": "python3",
      "display_name": "Python 3"
    },
    "language_info": {
      "name": "python"
    }
  },
  "cells": [
    {
      "cell_type": "markdown",
      "metadata": {
        "id": "view-in-github",
        "colab_type": "text"
      },
      "source": [
        "<a href=\"https://colab.research.google.com/github/RGivisiez/TensorFlow-Templates/blob/main/TensorBoard_Embedding_Visualization.ipynb\" target=\"_parent\"><img src=\"https://colab.research.google.com/assets/colab-badge.svg\" alt=\"Open In Colab\"/></a>"
      ]
    },
    {
      "cell_type": "markdown",
      "source": [
        "### Imports"
      ],
      "metadata": {
        "id": "Vl5nb4H0OM-3"
      }
    },
    {
      "cell_type": "code",
      "execution_count": 3,
      "metadata": {
        "id": "F1FEPZ04-xGT"
      },
      "outputs": [],
      "source": [
        "import os"
      ]
    },
    {
      "cell_type": "markdown",
      "source": [
        "### Model Definitions"
      ],
      "metadata": {
        "id": "WV53LtDW-iVS"
      }
    },
    {
      "cell_type": "code",
      "source": [
        "folder_path = './logs1'\n",
        "\n",
        "if not os.path.exists(folder_path):\n",
        "    os.makedirs(folder_path)"
      ],
      "metadata": {
        "id": "8OnNbsr5AyRc"
      },
      "execution_count": 4,
      "outputs": []
    },
    {
      "cell_type": "markdown",
      "source": [
        "### Initialize Tensorboard"
      ],
      "metadata": {
        "id": "Jv9vCw6TNvCI"
      }
    },
    {
      "cell_type": "code",
      "source": [
        "%load_ext tensorboard"
      ],
      "metadata": {
        "id": "6xo_IpckEQR1"
      },
      "execution_count": 9,
      "outputs": []
    },
    {
      "cell_type": "code",
      "source": [
        "%tensorboard --logdir $folder_path --host 0.0.0.0"
      ],
      "metadata": {
        "id": "tZdUbxstmtto",
        "colab": {
          "base_uri": "https://localhost:8080/",
          "height": 0
        },
        "outputId": "3b36927a-494e-4365-8d1b-1f3f4692c4bf"
      },
      "execution_count": 10,
      "outputs": [
        {
          "output_type": "display_data",
          "data": {
            "text/plain": [
              "<IPython.core.display.HTML object>"
            ],
            "text/html": [
              "\n",
              "      <iframe id=\"tensorboard-frame-fb6efdb80211fe4a\" width=\"100%\" height=\"800\" frameborder=\"0\">\n",
              "      </iframe>\n",
              "      <script>\n",
              "        (function() {\n",
              "          const frame = document.getElementById(\"tensorboard-frame-fb6efdb80211fe4a\");\n",
              "          const url = new URL(\"/\", window.location);\n",
              "          const port = 6006;\n",
              "          if (port) {\n",
              "            url.port = port;\n",
              "          }\n",
              "          frame.src = url;\n",
              "        })();\n",
              "      </script>\n",
              "    "
            ]
          },
          "metadata": {}
        }
      ]
    },
    {
      "cell_type": "code",
      "source": [
        ""
      ],
      "metadata": {
        "id": "i_TTW4bD_JKG"
      },
      "execution_count": 10,
      "outputs": []
    },
    {
      "cell_type": "code",
      "source": [
        ""
      ],
      "metadata": {
        "id": "lPPR749Q_JIF"
      },
      "execution_count": 10,
      "outputs": []
    },
    {
      "cell_type": "markdown",
      "source": [
        "### Auxiliary Function"
      ],
      "metadata": {
        "id": "ovMP4PzP_aCB"
      }
    },
    {
      "cell_type": "code",
      "source": [
        "import os\n",
        "import tensorflow as tf\n",
        "from tensorboard.plugins import projector\n",
        "\n",
        "def Write_Embedding_File(weights, file_path, metadata_file_name):\n",
        "\n",
        "  '''\n",
        "     weights: Any variable that can be transformed in a tf.Variable. In this\n",
        "              case, it will be the values in the embedding layer.\n",
        "\n",
        "     file_path: Path where the embedding.ckpt will be saved.\n",
        "\n",
        "     metadata_file_name: Metadata file name.\n",
        "  '''\n",
        "\n",
        "  # Save the weights we want to analyze as a variable. Note that the first\n",
        "  # value represents any unknown word, which is not in the metadata, here\n",
        "  # we will remove this value.\n",
        "\n",
        "  weights = tf.Variable(weights)\n",
        "\n",
        "  # Create a checkpoint from embedding, the filename and key are the\n",
        "  # name of the tensor.\n",
        "  checkpoint = tf.train.Checkpoint(embedding=weights)\n",
        "  checkpoint.save(os.path.join(file_path, \"embedding.ckpt\"))\n",
        "\n",
        "  # Set up config.\n",
        "  config = projector.ProjectorConfig()\n",
        "  embedding = config.embeddings.add()\n",
        "\n",
        "  # The name of the tensor will be suffixed by `/.ATTRIBUTES/VARIABLE_VALUE`.\n",
        "  embedding.tensor_name = \"embedding/.ATTRIBUTES/VARIABLE_VALUE\"\n",
        "  embedding.metadata_path = metadata_file_name\n",
        "  projector.visualize_embeddings(file_path, config)\n",
        "\n",
        "  return"
      ],
      "metadata": {
        "id": "0yVPswhdAwTj"
      },
      "execution_count": 8,
      "outputs": []
    },
    {
      "cell_type": "markdown",
      "source": [
        "### Write Embedding Files"
      ],
      "metadata": {
        "id": "ON3rSG-yM9WB"
      }
    },
    {
      "cell_type": "code",
      "source": [
        "import numpy as np"
      ],
      "metadata": {
        "id": "80LBewU2GfCZ"
      },
      "execution_count": 5,
      "outputs": []
    },
    {
      "cell_type": "code",
      "source": [
        "import string\n",
        "alphabet = list(string.ascii_lowercase)"
      ],
      "metadata": {
        "id": "44epIzsUIoWk"
      },
      "execution_count": 6,
      "outputs": []
    },
    {
      "cell_type": "code",
      "source": [
        "import pandas as pd\n",
        "\n",
        "#Write a file .tsv with the original values in the\n",
        "#dataset.\n",
        "\n",
        "df = pd.DataFrame(np.random.rand(len(alphabet), 3),\n",
        "                  columns=['feature1', 'feature2', 'feature3'])\n",
        "\n",
        "df['Names'] = alphabet[:df.shape[0]]\n",
        "df.set_index('Names', inplace=True)\n",
        "\n",
        "df.to_csv(folder_path + \"/metadata.tsv\", sep=\"\\t\")\n",
        "\n",
        "df.tail()"
      ],
      "metadata": {
        "colab": {
          "base_uri": "https://localhost:8080/",
          "height": 238
        },
        "id": "PSQdVa67GySy",
        "outputId": "c739865e-667c-4379-afa6-a6307a0a94a2"
      },
      "execution_count": 7,
      "outputs": [
        {
          "output_type": "execute_result",
          "data": {
            "text/plain": [
              "       feature1  feature2  feature3\n",
              "Names                              \n",
              "v      0.175440  0.493535  0.251726\n",
              "w      0.289284  0.664754  0.787775\n",
              "x      0.269358  0.373589  0.447067\n",
              "y      0.592897  0.120832  0.774373\n",
              "z      0.259286  0.238275  0.745418"
            ],
            "text/html": [
              "<div>\n",
              "<style scoped>\n",
              "    .dataframe tbody tr th:only-of-type {\n",
              "        vertical-align: middle;\n",
              "    }\n",
              "\n",
              "    .dataframe tbody tr th {\n",
              "        vertical-align: top;\n",
              "    }\n",
              "\n",
              "    .dataframe thead th {\n",
              "        text-align: right;\n",
              "    }\n",
              "</style>\n",
              "<table border=\"1\" class=\"dataframe\">\n",
              "  <thead>\n",
              "    <tr style=\"text-align: right;\">\n",
              "      <th></th>\n",
              "      <th>feature1</th>\n",
              "      <th>feature2</th>\n",
              "      <th>feature3</th>\n",
              "    </tr>\n",
              "    <tr>\n",
              "      <th>Names</th>\n",
              "      <th></th>\n",
              "      <th></th>\n",
              "      <th></th>\n",
              "    </tr>\n",
              "  </thead>\n",
              "  <tbody>\n",
              "    <tr>\n",
              "      <th>v</th>\n",
              "      <td>0.175440</td>\n",
              "      <td>0.493535</td>\n",
              "      <td>0.251726</td>\n",
              "    </tr>\n",
              "    <tr>\n",
              "      <th>w</th>\n",
              "      <td>0.289284</td>\n",
              "      <td>0.664754</td>\n",
              "      <td>0.787775</td>\n",
              "    </tr>\n",
              "    <tr>\n",
              "      <th>x</th>\n",
              "      <td>0.269358</td>\n",
              "      <td>0.373589</td>\n",
              "      <td>0.447067</td>\n",
              "    </tr>\n",
              "    <tr>\n",
              "      <th>y</th>\n",
              "      <td>0.592897</td>\n",
              "      <td>0.120832</td>\n",
              "      <td>0.774373</td>\n",
              "    </tr>\n",
              "    <tr>\n",
              "      <th>z</th>\n",
              "      <td>0.259286</td>\n",
              "      <td>0.238275</td>\n",
              "      <td>0.745418</td>\n",
              "    </tr>\n",
              "  </tbody>\n",
              "</table>\n",
              "</div>"
            ]
          },
          "metadata": {},
          "execution_count": 7
        }
      ]
    },
    {
      "cell_type": "code",
      "source": [
        "#Write the embedding file.\n",
        "Write_Embedding_File(np.random.rand(df.shape[0], 10), folder_path,\n",
        "                     'metadata.tsv')"
      ],
      "metadata": {
        "id": "TmYUVQ6mBnWa"
      },
      "execution_count": 11,
      "outputs": []
    }
  ]
}